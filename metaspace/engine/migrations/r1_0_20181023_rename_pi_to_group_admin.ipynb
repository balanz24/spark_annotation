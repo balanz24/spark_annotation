{
 "cells": [
  {
   "cell_type": "code",
   "execution_count": null,
   "metadata": {},
   "outputs": [],
   "source": [
    "import sys\n",
    "engine_path = '~/EMBL/metaspace/metaspace/engine'\n",
    "if engine_path not in set(sys.path):\n",
    "    sys.path.append(engine_path)\n",
    "# sys.path\n",
    "from sm.engine.db import DB\n",
    "from sm.engine.util import SMConfig\n",
    "SMConfig.set_path('../conf/config.json')\n",
    "sm_config = SMConfig.get_conf()\n",
    "db = DB(sm_config['db'])"
   ]
  },
  {
   "cell_type": "code",
   "execution_count": null,
   "metadata": {},
   "outputs": [],
   "source": [
    "# Rename PRINCIPAL_INVESTIGATOR to GROUP ADMIN \n",
    "\n",
    "db.alter(\"UPDATE graphql.user_group SET role = 'GROUP_ADMIN' WHERE role = 'PRINCIPAL_INVESTIGATOR'\")"
   ]
  },
  {
   "cell_type": "code",
   "execution_count": null,
   "metadata": {},
   "outputs": [],
   "source": []
  }
 ],
 "metadata": {
  "kernelspec": {
   "display_name": "pyconda",
   "language": "python",
   "name": "pyconda"
  },
  "language_info": {
   "codemirror_mode": {
    "name": "ipython",
    "version": 3
   },
   "file_extension": ".py",
   "mimetype": "text/x-python",
   "name": "python",
   "nbconvert_exporter": "python",
   "pygments_lexer": "ipython3",
   "version": "3.6.6"
  }
 },
 "nbformat": 4,
 "nbformat_minor": 2
}
