{
 "cells": [
  {
   "cell_type": "markdown",
   "metadata": {},
   "source": [
    "# Updating dataset databases"
   ]
  },
  {
   "cell_type": "markdown",
   "metadata": {},
   "source": [
    "## Setup"
   ]
  },
  {
   "cell_type": "code",
   "execution_count": 6,
   "metadata": {},
   "outputs": [
    {
     "data": {
      "text/plain": [
       "SMInstance(https://metaspace2020.eu/graphql)"
      ]
     },
     "execution_count": 6,
     "metadata": {},
     "output_type": "execute_result"
    }
   ],
   "source": [
    "import json, pprint\n",
    "from metaspace import SMInstance\n",
    "\n",
    "sm = SMInstance()\n",
    "sm"
   ]
  },
  {
   "cell_type": "code",
   "execution_count": 5,
   "metadata": {
    "scrolled": true
   },
   "outputs": [],
   "source": [
    "# This will prompt you to enter your API key and will save it to a config file.\n",
    "# Note that API keys should be kept secret like passwords.\n",
    "sm.save_login()"
   ]
  },
  {
   "cell_type": "markdown",
   "metadata": {},
   "source": [
    "## Update dataset"
   ]
  },
  {
   "cell_type": "code",
   "execution_count": 11,
   "metadata": {},
   "outputs": [],
   "source": [
    "def databases_as_tuples(database_details):\n",
    "    return [(db['name'], db['version']) for db in database_details]"
   ]
  },
  {
   "cell_type": "markdown",
   "metadata": {},
   "source": [
    "Existing databases"
   ]
  },
  {
   "cell_type": "code",
   "execution_count": 12,
   "metadata": {
    "scrolled": true
   },
   "outputs": [
    {
     "name": "stdout",
     "output_type": "stream",
     "text": [
      "[('HMDB', 'v4'),\n",
      " ('core_metabolome_v3', '2020-03-30'),\n",
      " ('ChEBI', '2016'),\n",
      " ('core_metabolome_v2', '2020-02-28')]\n"
     ]
    }
   ],
   "source": [
    "from pprint import pprint\n",
    "\n",
    "dataset_id = '2017-05-17_19h49m04s'\n",
    "dataset = sm.dataset(id=dataset_id)\n",
    "pprint(databases_as_tuples(dataset.database_details))"
   ]
  },
  {
   "cell_type": "markdown",
   "metadata": {},
   "source": [
    " Specify list of new databases against which you want to analyze your dataset"
   ]
  },
  {
   "cell_type": "code",
   "execution_count": null,
   "metadata": {},
   "outputs": [],
   "source": [
    "# Available databases:\n",
    "# Please notice that if you choose more than 3 databases the processing may take a while\n",
    "\n",
    "# (\"BraChemDB\", \"2018-01\")\n",
    "# (\"ChEBI\", \"2018-01\")\n",
    "# (\"HMDB\", \"v4\")\n",
    "# (\"HMDB-cotton\", \"v4\")\n",
    "# (\"HMDB-endogenous\", \"v4\")\n",
    "# (\"LipidMaps\", \"2017-12-12\")\n",
    "# (\"PAMDB\", \"v1.0\")\n",
    "# (\"SwissLipids\", \"2018-02-02\")\n",
    "# (\"core_metabolome_v3\", \"2020-03-30\")\n",
    "\n",
    "new_databases = [('ChEBI', '2018-01'), ('LipidMaps', '2017-12-12')]"
   ]
  },
  {
   "cell_type": "markdown",
   "metadata": {},
   "source": [
    "Update the dataset"
   ]
  },
  {
   "cell_type": "code",
   "execution_count": null,
   "metadata": {},
   "outputs": [],
   "source": [
    "ds = sm.dataset(id=dataset_id)\n",
    "sm.update_dataset_dbs(dataset_id, new_databases, ds.adducts)"
   ]
  },
  {
   "cell_type": "markdown",
   "metadata": {},
   "source": [
    "## Update all datasets in project"
   ]
  },
  {
   "cell_type": "code",
   "execution_count": null,
   "metadata": {},
   "outputs": [],
   "source": [
    "# \"Whole body imaging, animal models\" project\n",
    "for ds in sm.dataset(project='a493c7b8-e27f-11e8-9d75-3bb2859d3748'):\n",
    "    databases = databases_as_tuples(ds.database_details)\n",
    "    print(ds.name, databases)\n",
    "    \n",
    "    if ('core_metabolome_v3', '2020-03-30') not in databases:\n",
    "        databases.append(('core_metabolome_v3', '2020-03-30'))\n",
    "    \n",
    "    sm.update_dataset_dbs(ds.id, databases, ds.adducts)"
   ]
  }
 ],
 "metadata": {
  "kernelspec": {
   "display_name": "sm",
   "language": "python",
   "name": "sm"
  },
  "language_info": {
   "codemirror_mode": {
    "name": "ipython",
    "version": 3
   },
   "file_extension": ".py",
   "mimetype": "text/x-python",
   "name": "python",
   "nbconvert_exporter": "python",
   "pygments_lexer": "ipython3",
   "version": "3.6.9"
  }
 },
 "nbformat": 4,
 "nbformat_minor": 4
}
