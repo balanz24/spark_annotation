{
 "cells": [
  {
   "cell_type": "markdown",
   "metadata": {},
   "source": [
    "# Submit dataset example"
   ]
  },
  {
   "cell_type": "markdown",
   "source": [
    "## Log in to METASPACE\n",
    "\n",
    "To authenticate with METASPACE, generate an API key from your\n",
    "[account page](https://metaspace2020.eu/user/me) and enter it below"
   ],
   "metadata": {
    "collapsed": false,
    "pycharm": {
     "name": "#%% md\n"
    }
   }
  },
  {
   "cell_type": "code",
   "execution_count": null,
   "metadata": {},
   "outputs": [],
   "source": [
    "import json\n",
    "from metaspace import SMInstance\n",
    "\n",
    "sm = SMInstance()"
   ]
  },
  {
   "cell_type": "code",
   "execution_count": null,
   "metadata": {
    "pycharm": {
     "name": "#%%\n"
    }
   },
   "outputs": [],
   "source": [
    "# This will prompt you to enter your API key if needed and it will save it to a config file.\n",
    "# Note that API keys should be kept secret like passwords. \n",
    "sm.save_login()"
   ]
  },
  {
   "cell_type": "markdown",
   "metadata": {
    "pycharm": {
     "name": "#%% md\n"
    }
   },
   "source": [
    "## Provide local paths to your imzML and Ibd files"
   ]
  },
  {
   "cell_type": "code",
   "execution_count": null,
   "metadata": {
    "pycharm": {
     "name": "#%%\n"
    }
   },
   "outputs": [],
   "source": [
    "imzml_fn = 'your_path_to_imzMLFile/Name.imzML'\n",
    "ibd_fn = 'your_path_to_IbdFile/Name.ibd'"
   ]
  },
  {
   "cell_type": "markdown",
   "metadata": {
    "pycharm": {
     "name": "#%% md\n"
    }
   },
   "source": [
    "## Provide metadata for your dataset"
   ]
  },
  {
   "cell_type": "code",
   "execution_count": null,
   "metadata": {
    "pycharm": {
     "name": "#%%\n"
    }
   },
   "outputs": [],
   "source": [
    "dataset_name = 'Sample Name'\n",
    "metadata = {\n",
    "    'Data_Type': 'Imaging MS',  # shouldn't be changed\n",
    "    'Sample_Information': {\n",
    "        'Organism': 'Species',\n",
    "        'Organism_Part': 'Organ or organism part',\n",
    "        'Condition': 'E.g. wildtype, diseased',\n",
    "        'Sample_Growth_Conditions': 'E.g. intervention, treatment'  # this is an extra field\n",
    "    },\n",
    "    'Sample_Preparation': {\n",
    "        'Sample_Stabilisation': 'Preservation method',\n",
    "        'Tissue_Modification': 'E.g. chemical modification',\n",
    "        'MALDI_Matrix': '2,5-dihydroxybenzoic acid (DHB)',\n",
    "        'MALDI_Matrix_Application': 'ImagePrep',\n",
    "        'Solvent': 'none'  # this is an extra field\n",
    "    },\n",
    "    'MS_Analysis': {\n",
    "        'Polarity': 'Ion polarity mode[Positive/Negative]',\n",
    "        'Ionisation_Source': 'E.g. MALDI, DESI',\n",
    "        'Analyzer': 'E.g. FTICR, Orbitrap',\n",
    "        'Detector_Resolving_Power': {\n",
    "            'mz': 400,\n",
    "            'Resolving_Power': 130000\n",
    "        },\n",
    "        'Pixel_Size': {\n",
    "            'Xaxis': 20,\n",
    "            'Yaxis': 40\n",
    "        }\n",
    "    }\n",
    "}"
   ]
  },
  {
   "cell_type": "markdown",
   "metadata": {
    "pycharm": {
     "name": "#%% md\n"
    }
   },
   "source": [
    "## Specify list of databases against which you want to analyze your dataset "
   ]
  },
  {
   "cell_type": "code",
   "execution_count": null,
   "metadata": {
    "pycharm": {
     "name": "#%%\n"
    }
   },
   "outputs": [],
   "source": [
    "# Get list of available databases:\n",
    "print(sm.databases())"
   ]
  },
  {
   "cell_type": "markdown",
   "source": [
    "Public databases:\n",
    "```\n",
    "[<18:BraChemDB:2018-01>,\n",
    " <19:ChEBI:2018-01>,\n",
    " <22:HMDB:v4>,\n",
    " <23:HMDB-endogenous:v4>,\n",
    " <24:LipidMaps:2017-12-12>,\n",
    " <25:PAMDB:v1.0>,\n",
    " <26:SwissLipids:2018-02-02>,\n",
    " <27:HMDB-cotton:v4>,\n",
    " <33:ECMDB:2018-12>,\n",
    " <38:CoreMetabolome:v3>]\n",
    "```"
   ],
   "metadata": {
    "collapsed": false,
    "pycharm": {
     "name": "#%% md\n"
    }
   }
  },
  {
   "cell_type": "code",
   "execution_count": null,
   "outputs": [],
   "source": [
    "# Databases may be specified either as an integer ID, or in ('name', 'version') form\n",
    "# Please notice that if you choose more than 3 databases the processing may take a while\n",
    "databases = [\n",
    "    22,  # ID 22 corresponds to HMDB v4\n",
    "    ('ChEBI', '2018-01'), # ('name', 'version') style is also accepted\n",
    "]"
   ],
   "metadata": {
    "collapsed": false,
    "pycharm": {
     "name": "#%%\n"
    }
   }
  },
  {
   "cell_type": "markdown",
   "metadata": {
    "pycharm": {
     "name": "#%% md\n"
    }
   },
   "source": [
    "## Dataset visibility (Public/Private)"
   ]
  },
  {
   "cell_type": "markdown",
   "metadata": {},
   "source": [
    "We are currently allow users to choose if they want their datasets and annotations to be available publicly or not. \n",
    "Set the value below to `True` if you want dataset to be public.\n",
    "If `False`, dataset will only be visible to yourself, other members of your Group,\n",
    "METASPACE administrators, and members of any Projects you add it to."
   ]
  },
  {
   "cell_type": "code",
   "execution_count": null,
   "metadata": {
    "pycharm": {
     "name": "#%%\n"
    }
   },
   "outputs": [],
   "source": [
    "is_public = True # or False"
   ]
  },
  {
   "cell_type": "markdown",
   "metadata": {
    "pycharm": {
     "name": "#%% md\n"
    }
   },
   "source": [
    "## Submit the dataset"
   ]
  },
  {
   "cell_type": "code",
   "execution_count": null,
   "metadata": {},
   "outputs": [],
   "source": [
    "sm.submit_dataset(\n",
    "    imzml_fn, ibd_fn, dataset_name,\n",
    "    metadata, is_public, databases\n",
    ")"
   ]
  },
  {
   "cell_type": "markdown",
   "metadata": {},
   "source": [
    "- In case of successful submission, you should see the Dataset ID like `2021-01-01_10h11m12s`.\n",
    "Go to [METASPACE](https://metaspace2020.eu) to check your annotations!\n",
    "\n",
    "- If you get `KeyError: 'errors'` make sure that you provided API token and try it again\n",
    "\n",
    "- If you don't see any messages at all, please check if correct metadata is provided,\n",
    "especially if you've specified `Polarity: Positive or Negative`."
   ]
  }
 ],
 "metadata": {
  "kernelspec": {
   "display_name": "sm",
   "language": "python",
   "name": "sm"
  },
  "language_info": {
   "codemirror_mode": {
    "name": "ipython",
    "version": 3
   },
   "file_extension": ".py",
   "mimetype": "text/x-python",
   "name": "python",
   "nbconvert_exporter": "python",
   "pygments_lexer": "ipython3",
   "version": "3.6.9"
  },
  "widgets": {
   "application/vnd.jupyter.widget-state+json": {
    "state": {},
    "version_major": 2,
    "version_minor": 0
   }
  }
 },
 "nbformat": 4,
 "nbformat_minor": 2
}